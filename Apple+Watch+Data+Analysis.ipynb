{
 "cells": [
  {
   "cell_type": "markdown",
   "metadata": {},
   "source": [
    "## ***Analysis Of My Apple Watch Data***\n"
   ]
  },
  {
   "cell_type": "code",
   "execution_count": 135,
   "metadata": {},
   "outputs": [],
   "source": [
    "import pandas as pd\n",
    "import xmltodict"
   ]
  },
  {
   "cell_type": "markdown",
   "metadata": {},
   "source": [
    "- ### Step 1. Data Collection"
   ]
  },
  {
   "cell_type": "code",
   "execution_count": 136,
   "metadata": {},
   "outputs": [],
   "source": [
    "input_path = 'apple_health_export\\\\export.xml'\n",
    "with open(input_path,'r') as xml_file:\n",
    "    input_data = xmltodict.parse(xml_file.read())"
   ]
  },
  {
   "cell_type": "code",
   "execution_count": 137,
   "metadata": {},
   "outputs": [
    {
     "name": "stdout",
     "output_type": "stream",
     "text": [
      "<class 'pandas.core.frame.DataFrame'>\n",
      "RangeIndex: 228585 entries, 0 to 228584\n",
      "Data columns (total 11 columns):\n",
      "@type                               228585 non-null object\n",
      "@sourceName                         228585 non-null object\n",
      "@sourceVersion                      228581 non-null object\n",
      "@unit                               226988 non-null object\n",
      "@creationDate                       228585 non-null object\n",
      "@startDate                          228585 non-null object\n",
      "@endDate                            228585 non-null object\n",
      "@value                              228578 non-null object\n",
      "@device                             228238 non-null object\n",
      "MetadataEntry                       18282 non-null object\n",
      "HeartRateVariabilityMetadataList    341 non-null object\n",
      "dtypes: object(11)\n",
      "memory usage: 19.2+ MB\n"
     ]
    }
   ],
   "source": [
    "records_list = input_data['HealthData']['Record']\n",
    "df_healthData = pd.DataFrame(records_list)\n",
    "df_healthData.info()"
   ]
  },
  {
   "cell_type": "markdown",
   "metadata": {},
   "source": [
    "**Removing the @ from columns**"
   ]
  },
  {
   "cell_type": "code",
   "execution_count": 138,
   "metadata": {},
   "outputs": [
    {
     "data": {
      "text/plain": [
       "Index(['type', 'sourceName', 'sourceVersion', 'unit', 'creationDate',\n",
       "       'startDate', 'endDate', 'value', 'device', 'MetadataEntry',\n",
       "       'HeartRateVariabilityMetadataList'],\n",
       "      dtype='object')"
      ]
     },
     "execution_count": 138,
     "metadata": {},
     "output_type": "execute_result"
    }
   ],
   "source": [
    "df_healthData.columns = df_records.columns.str.replace('@','')\n",
    "df_healthData.columns"
   ]
  },
  {
   "cell_type": "code",
   "execution_count": 139,
   "metadata": {},
   "outputs": [
    {
     "data": {
      "text/html": [
       "<div>\n",
       "<style scoped>\n",
       "    .dataframe tbody tr th:only-of-type {\n",
       "        vertical-align: middle;\n",
       "    }\n",
       "\n",
       "    .dataframe tbody tr th {\n",
       "        vertical-align: top;\n",
       "    }\n",
       "\n",
       "    .dataframe thead th {\n",
       "        text-align: right;\n",
       "    }\n",
       "</style>\n",
       "<table border=\"1\" class=\"dataframe\">\n",
       "  <thead>\n",
       "    <tr style=\"text-align: right;\">\n",
       "      <th></th>\n",
       "      <th>type</th>\n",
       "      <th>sourceName</th>\n",
       "      <th>sourceVersion</th>\n",
       "      <th>unit</th>\n",
       "      <th>creationDate</th>\n",
       "      <th>startDate</th>\n",
       "      <th>endDate</th>\n",
       "      <th>value</th>\n",
       "      <th>device</th>\n",
       "      <th>MetadataEntry</th>\n",
       "      <th>HeartRateVariabilityMetadataList</th>\n",
       "    </tr>\n",
       "  </thead>\n",
       "  <tbody>\n",
       "    <tr>\n",
       "      <td>count</td>\n",
       "      <td>228585</td>\n",
       "      <td>228585</td>\n",
       "      <td>228581</td>\n",
       "      <td>226988</td>\n",
       "      <td>228585</td>\n",
       "      <td>228585</td>\n",
       "      <td>228585</td>\n",
       "      <td>228578</td>\n",
       "      <td>228238</td>\n",
       "      <td>18282</td>\n",
       "      <td>341</td>\n",
       "    </tr>\n",
       "    <tr>\n",
       "      <td>unique</td>\n",
       "      <td>17</td>\n",
       "      <td>4</td>\n",
       "      <td>22</td>\n",
       "      <td>9</td>\n",
       "      <td>69480</td>\n",
       "      <td>174803</td>\n",
       "      <td>174668</td>\n",
       "      <td>38166</td>\n",
       "      <td>85863</td>\n",
       "      <td>6</td>\n",
       "      <td>341</td>\n",
       "    </tr>\n",
       "    <tr>\n",
       "      <td>top</td>\n",
       "      <td>HKQuantityTypeIdentifierActiveEnergyBurned</td>\n",
       "      <td>Devâ€™s AppleÂ Watch</td>\n",
       "      <td>5.3.1</td>\n",
       "      <td>kcal</td>\n",
       "      <td>2019-11-19 18:15:29 +0530</td>\n",
       "      <td>2019-08-09 13:34:00 +0530</td>\n",
       "      <td>2019-07-22 13:29:05 +0530</td>\n",
       "      <td>1</td>\n",
       "      <td>&lt;&lt;HKDevice: 0x2839e11d0&gt;, name:Apple Watch, ma...</td>\n",
       "      <td>{'@key': 'HKMetadataKeyHeartRateMotionContext'...</td>\n",
       "      <td>{'InstantaneousBeatsPerMinute': [{'@bpm': '73'...</td>\n",
       "    </tr>\n",
       "    <tr>\n",
       "      <td>freq</td>\n",
       "      <td>85145</td>\n",
       "      <td>151998</td>\n",
       "      <td>84411</td>\n",
       "      <td>105682</td>\n",
       "      <td>289</td>\n",
       "      <td>5</td>\n",
       "      <td>6</td>\n",
       "      <td>9109</td>\n",
       "      <td>15</td>\n",
       "      <td>12207</td>\n",
       "      <td>1</td>\n",
       "    </tr>\n",
       "  </tbody>\n",
       "</table>\n",
       "</div>"
      ],
      "text/plain": [
       "                                              type            sourceName  \\\n",
       "count                                       228585                228585   \n",
       "unique                                          17                     4   \n",
       "top     HKQuantityTypeIdentifierActiveEnergyBurned  Devâ€™s AppleÂ Watch   \n",
       "freq                                         85145                151998   \n",
       "\n",
       "       sourceVersion    unit               creationDate  \\\n",
       "count         228581  226988                     228585   \n",
       "unique            22       9                      69480   \n",
       "top            5.3.1    kcal  2019-11-19 18:15:29 +0530   \n",
       "freq           84411  105682                        289   \n",
       "\n",
       "                        startDate                    endDate   value  \\\n",
       "count                      228585                     228585  228578   \n",
       "unique                     174803                     174668   38166   \n",
       "top     2019-08-09 13:34:00 +0530  2019-07-22 13:29:05 +0530       1   \n",
       "freq                            5                          6    9109   \n",
       "\n",
       "                                                   device  \\\n",
       "count                                              228238   \n",
       "unique                                              85863   \n",
       "top     <<HKDevice: 0x2839e11d0>, name:Apple Watch, ma...   \n",
       "freq                                                   15   \n",
       "\n",
       "                                            MetadataEntry  \\\n",
       "count                                               18282   \n",
       "unique                                                  6   \n",
       "top     {'@key': 'HKMetadataKeyHeartRateMotionContext'...   \n",
       "freq                                                12207   \n",
       "\n",
       "                         HeartRateVariabilityMetadataList  \n",
       "count                                                 341  \n",
       "unique                                                341  \n",
       "top     {'InstantaneousBeatsPerMinute': [{'@bpm': '73'...  \n",
       "freq                                                    1  "
      ]
     },
     "execution_count": 139,
     "metadata": {},
     "output_type": "execute_result"
    }
   ],
   "source": [
    "df_healthData.describe()"
   ]
  },
  {
   "cell_type": "markdown",
   "metadata": {},
   "source": [
    "- ### Step 2. Data Cleaning \n",
    "\n",
    "Data Cleaning is very important part because its *Garbage In Garbage Out* sceniro. Currently the data is disturbed and messed. We will now clean the data and make it more sensible for analysis purpose."
   ]
  },
  {
   "cell_type": "code",
   "execution_count": 140,
   "metadata": {},
   "outputs": [
    {
     "data": {
      "text/html": [
       "<div>\n",
       "<style scoped>\n",
       "    .dataframe tbody tr th:only-of-type {\n",
       "        vertical-align: middle;\n",
       "    }\n",
       "\n",
       "    .dataframe tbody tr th {\n",
       "        vertical-align: top;\n",
       "    }\n",
       "\n",
       "    .dataframe thead th {\n",
       "        text-align: right;\n",
       "    }\n",
       "</style>\n",
       "<table border=\"1\" class=\"dataframe\">\n",
       "  <thead>\n",
       "    <tr style=\"text-align: right;\">\n",
       "      <th></th>\n",
       "      <th>type</th>\n",
       "      <th>sourceName</th>\n",
       "      <th>sourceVersion</th>\n",
       "      <th>unit</th>\n",
       "      <th>creationDate</th>\n",
       "      <th>startDate</th>\n",
       "      <th>endDate</th>\n",
       "      <th>value</th>\n",
       "      <th>device</th>\n",
       "      <th>MetadataEntry</th>\n",
       "      <th>HeartRateVariabilityMetadataList</th>\n",
       "    </tr>\n",
       "  </thead>\n",
       "  <tbody>\n",
       "    <tr>\n",
       "      <td>0</td>\n",
       "      <td>HKQuantityTypeIdentifierHeight</td>\n",
       "      <td>Health</td>\n",
       "      <td>10.0.2</td>\n",
       "      <td>cm</td>\n",
       "      <td>2016-10-23 00:01:20 +0530</td>\n",
       "      <td>2016-10-23 00:01:20 +0530</td>\n",
       "      <td>2016-10-23 00:01:20 +0530</td>\n",
       "      <td>168</td>\n",
       "      <td>NaN</td>\n",
       "      <td>NaN</td>\n",
       "      <td>NaN</td>\n",
       "    </tr>\n",
       "    <tr>\n",
       "      <td>1</td>\n",
       "      <td>HKQuantityTypeIdentifierBodyMass</td>\n",
       "      <td>Health</td>\n",
       "      <td>10.0.2</td>\n",
       "      <td>kg</td>\n",
       "      <td>2016-10-23 00:01:20 +0530</td>\n",
       "      <td>2016-10-23 00:01:20 +0530</td>\n",
       "      <td>2016-10-23 00:01:20 +0530</td>\n",
       "      <td>56</td>\n",
       "      <td>NaN</td>\n",
       "      <td>NaN</td>\n",
       "      <td>NaN</td>\n",
       "    </tr>\n",
       "    <tr>\n",
       "      <td>2</td>\n",
       "      <td>HKQuantityTypeIdentifierBodyMass</td>\n",
       "      <td>iPhone</td>\n",
       "      <td>12.3.1</td>\n",
       "      <td>kg</td>\n",
       "      <td>2019-06-21 07:38:54 +0530</td>\n",
       "      <td>2019-06-21 07:38:53 +0530</td>\n",
       "      <td>2019-06-21 07:38:53 +0530</td>\n",
       "      <td>62</td>\n",
       "      <td>NaN</td>\n",
       "      <td>NaN</td>\n",
       "      <td>NaN</td>\n",
       "    </tr>\n",
       "    <tr>\n",
       "      <td>3</td>\n",
       "      <td>HKQuantityTypeIdentifierHeartRate</td>\n",
       "      <td>Devâ€™s AppleÂ Watch</td>\n",
       "      <td>5.1.1</td>\n",
       "      <td>count/min</td>\n",
       "      <td>2019-06-21 07:45:34 +0530</td>\n",
       "      <td>2019-06-21 07:44:06 +0530</td>\n",
       "      <td>2019-06-21 07:44:06 +0530</td>\n",
       "      <td>65</td>\n",
       "      <td>&lt;&lt;HKDevice: 0x28395caa0&gt;, name:Apple Watch, ma...</td>\n",
       "      <td>{'@key': 'HKMetadataKeyHeartRateMotionContext'...</td>\n",
       "      <td>NaN</td>\n",
       "    </tr>\n",
       "    <tr>\n",
       "      <td>4</td>\n",
       "      <td>HKQuantityTypeIdentifierHeartRate</td>\n",
       "      <td>Devâ€™s AppleÂ Watch</td>\n",
       "      <td>5.1.1</td>\n",
       "      <td>count/min</td>\n",
       "      <td>2019-06-21 07:47:08 +0530</td>\n",
       "      <td>2019-06-21 07:46:05 +0530</td>\n",
       "      <td>2019-06-21 07:46:05 +0530</td>\n",
       "      <td>62.439</td>\n",
       "      <td>&lt;&lt;HKDevice: 0x28395ce60&gt;, name:Apple Watch, ma...</td>\n",
       "      <td>{'@key': 'HKMetadataKeyHeartRateMotionContext'...</td>\n",
       "      <td>NaN</td>\n",
       "    </tr>\n",
       "    <tr>\n",
       "      <td>...</td>\n",
       "      <td>...</td>\n",
       "      <td>...</td>\n",
       "      <td>...</td>\n",
       "      <td>...</td>\n",
       "      <td>...</td>\n",
       "      <td>...</td>\n",
       "      <td>...</td>\n",
       "      <td>...</td>\n",
       "      <td>...</td>\n",
       "      <td>...</td>\n",
       "      <td>...</td>\n",
       "    </tr>\n",
       "    <tr>\n",
       "      <td>228580</td>\n",
       "      <td>HKQuantityTypeIdentifierHeartRateVariabilitySDNN</td>\n",
       "      <td>Devâ€™s AppleÂ Watch</td>\n",
       "      <td>5.3.1</td>\n",
       "      <td>ms</td>\n",
       "      <td>2020-02-17 14:04:52 +0530</td>\n",
       "      <td>2020-02-17 14:03:47 +0530</td>\n",
       "      <td>2020-02-17 14:04:52 +0530</td>\n",
       "      <td>47.8259</td>\n",
       "      <td>&lt;&lt;HKDevice: 0x283953d90&gt;, name:Apple Watch, ma...</td>\n",
       "      <td>NaN</td>\n",
       "      <td>{'InstantaneousBeatsPerMinute': [{'@bpm': '80'...</td>\n",
       "    </tr>\n",
       "    <tr>\n",
       "      <td>228581</td>\n",
       "      <td>HKQuantityTypeIdentifierHeartRateVariabilitySDNN</td>\n",
       "      <td>Devâ€™s AppleÂ Watch</td>\n",
       "      <td>5.3.1</td>\n",
       "      <td>ms</td>\n",
       "      <td>2020-02-17 17:22:42 +0530</td>\n",
       "      <td>2020-02-17 17:21:39 +0530</td>\n",
       "      <td>2020-02-17 17:22:42 +0530</td>\n",
       "      <td>36.2858</td>\n",
       "      <td>&lt;&lt;HKDevice: 0x283950550&gt;, name:Apple Watch, ma...</td>\n",
       "      <td>NaN</td>\n",
       "      <td>{'InstantaneousBeatsPerMinute': [{'@bpm': '90'...</td>\n",
       "    </tr>\n",
       "    <tr>\n",
       "      <td>228582</td>\n",
       "      <td>HKQuantityTypeIdentifierHeartRateVariabilitySDNN</td>\n",
       "      <td>Devâ€™s AppleÂ Watch</td>\n",
       "      <td>5.3.1</td>\n",
       "      <td>ms</td>\n",
       "      <td>2020-02-17 20:56:16 +0530</td>\n",
       "      <td>2020-02-17 20:55:11 +0530</td>\n",
       "      <td>2020-02-17 20:56:16 +0530</td>\n",
       "      <td>18.2534</td>\n",
       "      <td>&lt;&lt;HKDevice: 0x283953020&gt;, name:Apple Watch, ma...</td>\n",
       "      <td>NaN</td>\n",
       "      <td>{'InstantaneousBeatsPerMinute': [{'@bpm': '78'...</td>\n",
       "    </tr>\n",
       "    <tr>\n",
       "      <td>228583</td>\n",
       "      <td>HKQuantityTypeIdentifierHeartRateVariabilitySDNN</td>\n",
       "      <td>Devâ€™s AppleÂ Watch</td>\n",
       "      <td>5.3.1</td>\n",
       "      <td>ms</td>\n",
       "      <td>2020-02-18 14:19:47 +0530</td>\n",
       "      <td>2020-02-18 14:18:43 +0530</td>\n",
       "      <td>2020-02-18 14:19:47 +0530</td>\n",
       "      <td>59.6529</td>\n",
       "      <td>&lt;&lt;HKDevice: 0x2839537a0&gt;, name:Apple Watch, ma...</td>\n",
       "      <td>NaN</td>\n",
       "      <td>{'InstantaneousBeatsPerMinute': [{'@bpm': '96'...</td>\n",
       "    </tr>\n",
       "    <tr>\n",
       "      <td>228584</td>\n",
       "      <td>HKQuantityTypeIdentifierHeartRateVariabilitySDNN</td>\n",
       "      <td>Devâ€™s AppleÂ Watch</td>\n",
       "      <td>5.3.1</td>\n",
       "      <td>ms</td>\n",
       "      <td>2020-02-20 15:06:10 +0530</td>\n",
       "      <td>2020-02-20 15:05:05 +0530</td>\n",
       "      <td>2020-02-20 15:06:10 +0530</td>\n",
       "      <td>18.1848</td>\n",
       "      <td>&lt;&lt;HKDevice: 0x283953980&gt;, name:Apple Watch, ma...</td>\n",
       "      <td>NaN</td>\n",
       "      <td>{'InstantaneousBeatsPerMinute': [{'@bpm': '86'...</td>\n",
       "    </tr>\n",
       "  </tbody>\n",
       "</table>\n",
       "<p>228585 rows × 11 columns</p>\n",
       "</div>"
      ],
      "text/plain": [
       "                                                    type  \\\n",
       "0                         HKQuantityTypeIdentifierHeight   \n",
       "1                       HKQuantityTypeIdentifierBodyMass   \n",
       "2                       HKQuantityTypeIdentifierBodyMass   \n",
       "3                      HKQuantityTypeIdentifierHeartRate   \n",
       "4                      HKQuantityTypeIdentifierHeartRate   \n",
       "...                                                  ...   \n",
       "228580  HKQuantityTypeIdentifierHeartRateVariabilitySDNN   \n",
       "228581  HKQuantityTypeIdentifierHeartRateVariabilitySDNN   \n",
       "228582  HKQuantityTypeIdentifierHeartRateVariabilitySDNN   \n",
       "228583  HKQuantityTypeIdentifierHeartRateVariabilitySDNN   \n",
       "228584  HKQuantityTypeIdentifierHeartRateVariabilitySDNN   \n",
       "\n",
       "                  sourceName sourceVersion       unit  \\\n",
       "0                     Health        10.0.2         cm   \n",
       "1                     Health        10.0.2         kg   \n",
       "2                     iPhone        12.3.1         kg   \n",
       "3       Devâ€™s AppleÂ Watch         5.1.1  count/min   \n",
       "4       Devâ€™s AppleÂ Watch         5.1.1  count/min   \n",
       "...                      ...           ...        ...   \n",
       "228580  Devâ€™s AppleÂ Watch         5.3.1         ms   \n",
       "228581  Devâ€™s AppleÂ Watch         5.3.1         ms   \n",
       "228582  Devâ€™s AppleÂ Watch         5.3.1         ms   \n",
       "228583  Devâ€™s AppleÂ Watch         5.3.1         ms   \n",
       "228584  Devâ€™s AppleÂ Watch         5.3.1         ms   \n",
       "\n",
       "                     creationDate                  startDate  \\\n",
       "0       2016-10-23 00:01:20 +0530  2016-10-23 00:01:20 +0530   \n",
       "1       2016-10-23 00:01:20 +0530  2016-10-23 00:01:20 +0530   \n",
       "2       2019-06-21 07:38:54 +0530  2019-06-21 07:38:53 +0530   \n",
       "3       2019-06-21 07:45:34 +0530  2019-06-21 07:44:06 +0530   \n",
       "4       2019-06-21 07:47:08 +0530  2019-06-21 07:46:05 +0530   \n",
       "...                           ...                        ...   \n",
       "228580  2020-02-17 14:04:52 +0530  2020-02-17 14:03:47 +0530   \n",
       "228581  2020-02-17 17:22:42 +0530  2020-02-17 17:21:39 +0530   \n",
       "228582  2020-02-17 20:56:16 +0530  2020-02-17 20:55:11 +0530   \n",
       "228583  2020-02-18 14:19:47 +0530  2020-02-18 14:18:43 +0530   \n",
       "228584  2020-02-20 15:06:10 +0530  2020-02-20 15:05:05 +0530   \n",
       "\n",
       "                          endDate    value  \\\n",
       "0       2016-10-23 00:01:20 +0530      168   \n",
       "1       2016-10-23 00:01:20 +0530       56   \n",
       "2       2019-06-21 07:38:53 +0530       62   \n",
       "3       2019-06-21 07:44:06 +0530       65   \n",
       "4       2019-06-21 07:46:05 +0530   62.439   \n",
       "...                           ...      ...   \n",
       "228580  2020-02-17 14:04:52 +0530  47.8259   \n",
       "228581  2020-02-17 17:22:42 +0530  36.2858   \n",
       "228582  2020-02-17 20:56:16 +0530  18.2534   \n",
       "228583  2020-02-18 14:19:47 +0530  59.6529   \n",
       "228584  2020-02-20 15:06:10 +0530  18.1848   \n",
       "\n",
       "                                                   device  \\\n",
       "0                                                     NaN   \n",
       "1                                                     NaN   \n",
       "2                                                     NaN   \n",
       "3       <<HKDevice: 0x28395caa0>, name:Apple Watch, ma...   \n",
       "4       <<HKDevice: 0x28395ce60>, name:Apple Watch, ma...   \n",
       "...                                                   ...   \n",
       "228580  <<HKDevice: 0x283953d90>, name:Apple Watch, ma...   \n",
       "228581  <<HKDevice: 0x283950550>, name:Apple Watch, ma...   \n",
       "228582  <<HKDevice: 0x283953020>, name:Apple Watch, ma...   \n",
       "228583  <<HKDevice: 0x2839537a0>, name:Apple Watch, ma...   \n",
       "228584  <<HKDevice: 0x283953980>, name:Apple Watch, ma...   \n",
       "\n",
       "                                            MetadataEntry  \\\n",
       "0                                                     NaN   \n",
       "1                                                     NaN   \n",
       "2                                                     NaN   \n",
       "3       {'@key': 'HKMetadataKeyHeartRateMotionContext'...   \n",
       "4       {'@key': 'HKMetadataKeyHeartRateMotionContext'...   \n",
       "...                                                   ...   \n",
       "228580                                                NaN   \n",
       "228581                                                NaN   \n",
       "228582                                                NaN   \n",
       "228583                                                NaN   \n",
       "228584                                                NaN   \n",
       "\n",
       "                         HeartRateVariabilityMetadataList  \n",
       "0                                                     NaN  \n",
       "1                                                     NaN  \n",
       "2                                                     NaN  \n",
       "3                                                     NaN  \n",
       "4                                                     NaN  \n",
       "...                                                   ...  \n",
       "228580  {'InstantaneousBeatsPerMinute': [{'@bpm': '80'...  \n",
       "228581  {'InstantaneousBeatsPerMinute': [{'@bpm': '90'...  \n",
       "228582  {'InstantaneousBeatsPerMinute': [{'@bpm': '78'...  \n",
       "228583  {'InstantaneousBeatsPerMinute': [{'@bpm': '96'...  \n",
       "228584  {'InstantaneousBeatsPerMinute': [{'@bpm': '86'...  \n",
       "\n",
       "[228585 rows x 11 columns]"
      ]
     },
     "execution_count": 140,
     "metadata": {},
     "output_type": "execute_result"
    }
   ],
   "source": [
    "df_healthData"
   ]
  },
  {
   "cell_type": "markdown",
   "metadata": {},
   "source": [
    "**Read** : As we observe, the data is not clean. For example - *type* column has lengthy string values with some prefix, sourceName having special charaters in its values etc.\n",
    "\n",
    "We will now cleanup the data by taking all the columns one by one. We will fill the null/NA values and make data more uniform and sensible for analysis."
   ]
  },
  {
   "cell_type": "code",
   "execution_count": 141,
   "metadata": {},
   "outputs": [
    {
     "data": {
      "text/plain": [
       "array(['HKQuantityTypeIdentifierHeight',\n",
       "       'HKQuantityTypeIdentifierBodyMass',\n",
       "       'HKQuantityTypeIdentifierHeartRate',\n",
       "       'HKQuantityTypeIdentifierStepCount',\n",
       "       'HKQuantityTypeIdentifierDistanceWalkingRunning',\n",
       "       'HKQuantityTypeIdentifierBasalEnergyBurned',\n",
       "       'HKQuantityTypeIdentifierActiveEnergyBurned',\n",
       "       'HKQuantityTypeIdentifierFlightsClimbed',\n",
       "       'HKQuantityTypeIdentifierAppleExerciseTime',\n",
       "       'HKQuantityTypeIdentifierRestingHeartRate',\n",
       "       'HKQuantityTypeIdentifierVO2Max',\n",
       "       'HKQuantityTypeIdentifierWalkingHeartRateAverage',\n",
       "       'HKCategoryTypeIdentifierSleepAnalysis',\n",
       "       'HKCategoryTypeIdentifierAppleStandHour',\n",
       "       'HKCategoryTypeIdentifierMindfulSession',\n",
       "       'HKCategoryTypeIdentifierHighHeartRateEvent',\n",
       "       'HKQuantityTypeIdentifierHeartRateVariabilitySDNN'], dtype=object)"
      ]
     },
     "execution_count": 141,
     "metadata": {},
     "output_type": "execute_result"
    }
   ],
   "source": [
    "# Getting the unique values\n",
    "df_healthData.type.unique()"
   ]
  },
  {
   "cell_type": "code",
   "execution_count": 142,
   "metadata": {},
   "outputs": [
    {
     "data": {
      "text/plain": [
       "array(['Height', 'BodyMass', 'HeartRate', 'StepCount',\n",
       "       'DistanceWalkingRunning', 'BasalEnergyBurned',\n",
       "       'ActiveEnergyBurned', 'FlightsClimbed', 'AppleExerciseTime',\n",
       "       'RestingHeartRate', 'VO2Max', 'WalkingHeartRateAverage',\n",
       "       'SleepAnalysis', 'AppleStandHour', 'MindfulSession',\n",
       "       'HighHeartRateEvent', 'SDNN'], dtype=object)"
      ]
     },
     "execution_count": 142,
     "metadata": {},
     "output_type": "execute_result"
    }
   ],
   "source": [
    "df_healthData['type'].replace(to_replace=['HKQuantityTypeIdentifier',\n",
    "                                                     'HKCategoryTypeIdentifier',\n",
    "                                                     'HeartRateVariability'],value='',inplace=True,regex=True)\n",
    "df_healthData.type.unique()"
   ]
  },
  {
   "cell_type": "markdown",
   "metadata": {},
   "source": [
    "**Read** : As the first column *type* is now clean as it lengthy string values converted in short and more readable values and not having null/NA values, now we will move on to the second column *sourceName*."
   ]
  },
  {
   "cell_type": "code",
   "execution_count": 143,
   "metadata": {},
   "outputs": [
    {
     "data": {
      "text/plain": [
       "array(['Health', 'iPhone', 'Devâ€™s AppleÂ\\xa0Watch', 'Clock'],\n",
       "      dtype=object)"
      ]
     },
     "execution_count": 143,
     "metadata": {},
     "output_type": "execute_result"
    }
   ],
   "source": [
    "# Observing the unqiure values\n",
    "df_healthData.sourceName.unique()"
   ]
  },
  {
   "cell_type": "markdown",
   "metadata": {},
   "source": [
    "**Read** : As we see we are having the garbage value in this columns, lets replace it with iWatch.\n"
   ]
  },
  {
   "cell_type": "code",
   "execution_count": 144,
   "metadata": {},
   "outputs": [
    {
     "data": {
      "text/plain": [
       "array(['Health', 'iPhone', 'iWatch', 'Clock'], dtype=object)"
      ]
     },
     "execution_count": 144,
     "metadata": {},
     "output_type": "execute_result"
    }
   ],
   "source": [
    "df_healthData.sourceName.replace('Devâ€™s AppleÂ\\xa0Watch','iWatch',inplace=True)\n",
    "df_healthData.sourceName.unique()"
   ]
  },
  {
   "cell_type": "code",
   "execution_count": 145,
   "metadata": {},
   "outputs": [
    {
     "data": {
      "text/plain": [
       "array(['10.0.2', '12.3.1', '5.1.1', '5.3.1', '10.1', '10.1.1', '10.2',\n",
       "       '10.2.1', '11.0.2', '11.0.3', '11.1', '11.1.1', '11.1.2', '11.2',\n",
       "       '11.2.1', '11.2.2', '11.2.5', '11.2.6', '11.3', '11.4.1', '12.4.1',\n",
       "       nan, '50'], dtype=object)"
      ]
     },
     "execution_count": 145,
     "metadata": {},
     "output_type": "execute_result"
    }
   ],
   "source": [
    "df_healthData.sourceVersion.unique()"
   ]
  },
  {
   "cell_type": "code",
   "execution_count": 146,
   "metadata": {},
   "outputs": [],
   "source": [
    "df_healthData = df_healthData[df_healthData.sourceVersion != '50']"
   ]
  },
  {
   "cell_type": "code",
   "execution_count": 152,
   "metadata": {},
   "outputs": [],
   "source": [
    "df_healthData.sourceVersion.dropna(inplace=True)"
   ]
  },
  {
   "cell_type": "code",
   "execution_count": 156,
   "metadata": {},
   "outputs": [
    {
     "data": {
      "text/plain": [
       "array(['10.0.2', '12.3.1', '5.1.1', '5.3.1', '10.1', '10.1.1', '10.2',\n",
       "       '10.2.1', '11.0.2', '11.0.3', '11.1', '11.1.1', '11.1.2', '11.2',\n",
       "       '11.2.1', '11.2.2', '11.2.5', '11.2.6', '11.3', '11.4.1', '12.4.1'],\n",
       "      dtype=object)"
      ]
     },
     "execution_count": 156,
     "metadata": {},
     "output_type": "execute_result"
    }
   ],
   "source": [
    "df_healthData.sourceVersion.unique()"
   ]
  },
  {
   "cell_type": "code",
   "execution_count": 155,
   "metadata": {},
   "outputs": [
    {
     "data": {
      "text/plain": [
       "type                                     0\n",
       "sourceName                               0\n",
       "sourceVersion                            4\n",
       "unit                                  1594\n",
       "creationDate                             0\n",
       "startDate                                0\n",
       "endDate                                  0\n",
       "value                                    7\n",
       "device                                 347\n",
       "MetadataEntry                       210303\n",
       "HeartRateVariabilityMetadataList    228241\n",
       "dtype: int64"
      ]
     },
     "execution_count": 155,
     "metadata": {},
     "output_type": "execute_result"
    }
   ],
   "source": [
    "df_healthData.isnull().sum()"
   ]
  },
  {
   "cell_type": "code",
   "execution_count": 157,
   "metadata": {},
   "outputs": [
    {
     "data": {
      "text/plain": [
       "array(['cm', 'kg', 'count/min', 'count', 'km', 'kcal', 'min',\n",
       "       'mL/minÂ·kg', nan, 'ms'], dtype=object)"
      ]
     },
     "execution_count": 157,
     "metadata": {},
     "output_type": "execute_result"
    }
   ],
   "source": [
    "df_healthData.unit.unique()"
   ]
  },
  {
   "cell_type": "code",
   "execution_count": 158,
   "metadata": {},
   "outputs": [],
   "source": [
    "df_healthData.unit.dropna(inplace=True)"
   ]
  },
  {
   "cell_type": "code",
   "execution_count": 161,
   "metadata": {},
   "outputs": [
    {
     "data": {
      "text/plain": [
       "0"
      ]
     },
     "execution_count": 161,
     "metadata": {},
     "output_type": "execute_result"
    }
   ],
   "source": [
    "df_healthData.unit.isnull().sum()"
   ]
  }
 ],
 "metadata": {
  "kernelspec": {
   "display_name": "Python 3",
   "language": "python",
   "name": "python3"
  },
  "language_info": {
   "codemirror_mode": {
    "name": "ipython",
    "version": 3
   },
   "file_extension": ".py",
   "mimetype": "text/x-python",
   "name": "python",
   "nbconvert_exporter": "python",
   "pygments_lexer": "ipython3",
   "version": "3.7.4"
  }
 },
 "nbformat": 4,
 "nbformat_minor": 4
}
